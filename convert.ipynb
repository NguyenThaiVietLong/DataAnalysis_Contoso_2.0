{
 "cells": [
  {
   "cell_type": "code",
   "execution_count": 1,
   "metadata": {},
   "outputs": [],
   "source": [
    "import pandas as pd"
   ]
  },
  {
   "cell_type": "code",
   "execution_count": 4,
   "metadata": {},
   "outputs": [],
   "source": [
    "data1 = pd.read_excel('data/2008 Contoso Data.xlsx')\n",
    "data2 = pd.read_excel('data/2009 Contoso Data.xlsx')\n",
    "data3 = pd.read_excel('data/Contoso_Lookup_Tables.xlsx', sheet_name=None)\n",
    "data4 = pd.concat([data1, data2], ignore_index=True)"
   ]
  },
  {
   "cell_type": "code",
   "execution_count": 6,
   "metadata": {},
   "outputs": [],
   "source": [
    "product_data = data3['DIM Product']\n",
    "product_subcategory_data = data3['DIM Product Sub Category']\n",
    "geography_data = data3['DIM Geography']\n",
    "channel_data =  data3['DIM Channel']\n"
   ]
  },
  {
   "cell_type": "code",
   "execution_count": 27,
   "metadata": {},
   "outputs": [],
   "source": [
    "data1.to_json(\"data/2008_Contoso_Data.jsonl\",lines=True,orient='records')\n",
    "data2.to_json(\"data/2009_Contoso_Data.jsonl\",lines=True,orient='records')\n",
    "# data3.to_json(\"data/Contoso_Lookup_Tables.jsonl\",lines=True,orient='records')\n",
    "data4.to_json(\"data/data1&data2.jsonl\",lines=True,orient='records')\n"
   ]
  },
  {
   "cell_type": "code",
   "execution_count": 7,
   "metadata": {},
   "outputs": [],
   "source": [
    "product_data.to_json('data/DIM_product.jsonl',lines=True,orient='records')\n",
    "product_subcategory_data.to_json('data/DIM_product_subcategory_data.jsonl',lines=True,orient='records')\n",
    "geography_data.to_json('data/DIM_geography_data.jsonl',lines=True,orient='records')\n",
    "channel_data.to_json('data/DIM_channel_data.jsonl',lines=True,orient='records')"
   ]
  }
 ],
 "metadata": {
  "kernelspec": {
   "display_name": "dataanalysis",
   "language": "python",
   "name": "python3"
  },
  "language_info": {
   "codemirror_mode": {
    "name": "ipython",
    "version": 3
   },
   "file_extension": ".py",
   "mimetype": "text/x-python",
   "name": "python",
   "nbconvert_exporter": "python",
   "pygments_lexer": "ipython3",
   "version": "3.11.7"
  }
 },
 "nbformat": 4,
 "nbformat_minor": 2
}
